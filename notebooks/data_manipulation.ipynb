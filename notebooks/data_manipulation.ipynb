{
 "cells": [
  {
   "cell_type": "raw",
   "source": [
    "# Manipulação dos dados do MongoDB"
   ],
   "metadata": {
    "collapsed": false
   },
   "id": "4db03a05f55160d"
  },
  {
   "cell_type": "code",
   "execution_count": 13,
   "outputs": [],
   "source": [
    "from src.mongodb_database_manipulation import conecta_collection, disconnect_connection"
   ],
   "metadata": {
    "collapsed": false,
    "ExecuteTime": {
     "end_time": "2024-03-06T00:28:40.205341Z",
     "start_time": "2024-03-06T00:28:40.200956Z"
    }
   },
   "id": "28c9815d1db5c09c"
  },
  {
   "cell_type": "code",
   "execution_count": 14,
   "outputs": [
    {
     "name": "stdout",
     "output_type": "stream",
     "text": [
      "Pinged your deployment. You successfully connected to MongoDB!\n"
     ]
    }
   ],
   "source": [
    "collection, client = conecta_collection(\"spotify\", \"artists\")"
   ],
   "metadata": {
    "collapsed": false,
    "ExecuteTime": {
     "end_time": "2024-03-06T00:28:40.533960Z",
     "start_time": "2024-03-06T00:28:40.216773Z"
    }
   },
   "id": "2ad00b01e6fd107e"
  },
  {
   "cell_type": "code",
   "execution_count": 15,
   "outputs": [
    {
     "data": {
      "text/plain": "['Pitbull']"
     },
     "execution_count": 15,
     "metadata": {},
     "output_type": "execute_result"
    }
   ],
   "source": [
    "collection.distinct(\"name\")\n"
   ],
   "metadata": {
    "collapsed": false,
    "ExecuteTime": {
     "end_time": "2024-03-06T00:28:40.553967Z",
     "start_time": "2024-03-06T00:28:40.535968Z"
    }
   },
   "id": "2793d1c1b7737597"
  },
  {
   "cell_type": "code",
   "execution_count": 16,
   "outputs": [
    {
     "data": {
      "text/plain": "[{'_id': ObjectId('6586ec2b33274add61448b58'),\n  'external_urls': {'spotify': 'https://open.spotify.com/artist/0TnOYISbd1XYRBk9myaseg'},\n  'followers': {'href': None, 'total': 10255439},\n  'genres': ['dance pop', 'miami hip hop', 'pop'],\n  'href': 'https://api.spotify.com/v1/artists/0TnOYISbd1XYRBk9myaseg',\n  'id': '0TnOYISbd1XYRBk9myaseg',\n  'images': [{'height': 640,\n    'url': 'https://i.scdn.co/image/ab6761610000e5ebee07b5820dd91d15d397e29c',\n    'width': 640},\n   {'height': 320,\n    'url': 'https://i.scdn.co/image/ab67616100005174ee07b5820dd91d15d397e29c',\n    'width': 320},\n   {'height': 160,\n    'url': 'https://i.scdn.co/image/ab6761610000f178ee07b5820dd91d15d397e29c',\n    'width': 160}],\n  'name': 'Pitbull',\n  'popularity': 80,\n  'type': 'artist',\n  'uri': 'spotify:artist:0TnOYISbd1XYRBk9myaseg'},\n {'_id': ObjectId('658c258a41b1242730857e9c'),\n  'external_urls': {'spotify': 'https://open.spotify.com/artist/0TnOYISbd1XYRBk9myaseg'},\n  'followers': {'href': None, 'total': 10229742},\n  'genres': ['dance pop', 'miami hip hop', 'pop'],\n  'href': 'https://api.spotify.com/v1/artists/0TnOYISbd1XYRBk9myaseg',\n  'id': '0TnOYISbd1XYRBk9myaseg',\n  'images': [{'height': 640,\n    'url': 'https://i.scdn.co/image/ab6761610000e5ebee07b5820dd91d15d397e29c',\n    'width': 640},\n   {'height': 320,\n    'url': 'https://i.scdn.co/image/ab67616100005174ee07b5820dd91d15d397e29c',\n    'width': 320},\n   {'height': 160,\n    'url': 'https://i.scdn.co/image/ab6761610000f178ee07b5820dd91d15d397e29c',\n    'width': 160}],\n  'name': 'Pitbull',\n  'popularity': 81,\n  'type': 'artist',\n  'uri': 'spotify:artist:0TnOYISbd1XYRBk9myaseg'},\n {'_id': ObjectId('658c453f5ec67e57dec0b42f'),\n  'external_urls': {'spotify': 'https://open.spotify.com/artist/0TnOYISbd1XYRBk9myaseg'},\n  'followers': {'href': None, 'total': 10229742},\n  'genres': ['dance pop', 'miami hip hop', 'pop'],\n  'href': 'https://api.spotify.com/v1/artists/0TnOYISbd1XYRBk9myaseg',\n  'id': '0TnOYISbd1XYRBk9myaseg',\n  'images': [{'height': 640,\n    'url': 'https://i.scdn.co/image/ab6761610000e5ebee07b5820dd91d15d397e29c',\n    'width': 640},\n   {'height': 320,\n    'url': 'https://i.scdn.co/image/ab67616100005174ee07b5820dd91d15d397e29c',\n    'width': 320},\n   {'height': 160,\n    'url': 'https://i.scdn.co/image/ab6761610000f178ee07b5820dd91d15d397e29c',\n    'width': 160}],\n  'name': 'Pitbull',\n  'popularity': 81,\n  'type': 'artist',\n  'uri': 'spotify:artist:0TnOYISbd1XYRBk9myaseg'},\n {'_id': ObjectId('658c45c1c5bd15a0c5a4f1d8'),\n  'external_urls': {'spotify': 'https://open.spotify.com/artist/0TnOYISbd1XYRBk9myaseg'},\n  'followers': {'href': None, 'total': 10229742},\n  'genres': ['dance pop', 'miami hip hop', 'pop'],\n  'href': 'https://api.spotify.com/v1/artists/0TnOYISbd1XYRBk9myaseg',\n  'id': '0TnOYISbd1XYRBk9myaseg',\n  'images': [{'height': 640,\n    'url': 'https://i.scdn.co/image/ab6761610000e5ebee07b5820dd91d15d397e29c',\n    'width': 640},\n   {'height': 320,\n    'url': 'https://i.scdn.co/image/ab67616100005174ee07b5820dd91d15d397e29c',\n    'width': 320},\n   {'height': 160,\n    'url': 'https://i.scdn.co/image/ab6761610000f178ee07b5820dd91d15d397e29c',\n    'width': 160}],\n  'name': 'Pitbull',\n  'popularity': 81,\n  'type': 'artist',\n  'uri': 'spotify:artist:0TnOYISbd1XYRBk9myaseg'},\n {'_id': ObjectId('658c47e580887d5cdf2d57cd'),\n  'external_urls': {'spotify': 'https://open.spotify.com/artist/0TnOYISbd1XYRBk9myaseg'},\n  'followers': {'href': None, 'total': 10229742},\n  'genres': ['dance pop', 'miami hip hop', 'pop'],\n  'href': 'https://api.spotify.com/v1/artists/0TnOYISbd1XYRBk9myaseg',\n  'id': '0TnOYISbd1XYRBk9myaseg',\n  'images': [{'height': 640,\n    'url': 'https://i.scdn.co/image/ab6761610000e5ebee07b5820dd91d15d397e29c',\n    'width': 640},\n   {'height': 320,\n    'url': 'https://i.scdn.co/image/ab67616100005174ee07b5820dd91d15d397e29c',\n    'width': 320},\n   {'height': 160,\n    'url': 'https://i.scdn.co/image/ab6761610000f178ee07b5820dd91d15d397e29c',\n    'width': 160}],\n  'name': 'Pitbull',\n  'popularity': 81,\n  'type': 'artist',\n  'uri': 'spotify:artist:0TnOYISbd1XYRBk9myaseg'},\n {'_id': ObjectId('658c49d0185bd4e6feaa31eb'),\n  'external_urls': {'spotify': 'https://open.spotify.com/artist/0TnOYISbd1XYRBk9myaseg'},\n  'followers': {'href': None, 'total': 10229742},\n  'genres': ['dance pop', 'miami hip hop', 'pop'],\n  'href': 'https://api.spotify.com/v1/artists/0TnOYISbd1XYRBk9myaseg',\n  'id': '0TnOYISbd1XYRBk9myaseg',\n  'images': [{'height': 640,\n    'url': 'https://i.scdn.co/image/ab6761610000e5ebee07b5820dd91d15d397e29c',\n    'width': 640},\n   {'height': 320,\n    'url': 'https://i.scdn.co/image/ab67616100005174ee07b5820dd91d15d397e29c',\n    'width': 320},\n   {'height': 160,\n    'url': 'https://i.scdn.co/image/ab6761610000f178ee07b5820dd91d15d397e29c',\n    'width': 160}],\n  'name': 'Pitbull',\n  'popularity': 81,\n  'type': 'artist',\n  'uri': 'spotify:artist:0TnOYISbd1XYRBk9myaseg'}]"
     },
     "execution_count": 16,
     "metadata": {},
     "output_type": "execute_result"
    }
   ],
   "source": [
    "query = {\"genres\": \"pop\"}\n",
    "\n",
    "lista_seguidores = []\n",
    "for doc in collection.find(query):\n",
    "    lista_seguidores.append(doc)\n",
    "    \n",
    "lista_seguidores"
   ],
   "metadata": {
    "collapsed": false,
    "ExecuteTime": {
     "end_time": "2024-03-06T00:28:40.579402Z",
     "start_time": "2024-03-06T00:28:40.555010Z"
    }
   },
   "id": "1e4de059d82c2e70"
  },
  {
   "cell_type": "code",
   "execution_count": 17,
   "outputs": [],
   "source": [
    "disconnect_connection(client)"
   ],
   "metadata": {
    "collapsed": false,
    "ExecuteTime": {
     "end_time": "2024-03-06T00:28:40.598343Z",
     "start_time": "2024-03-06T00:28:40.580413Z"
    }
   },
   "id": "6c709cbf80112572"
  },
  {
   "cell_type": "code",
   "outputs": [],
   "source": [],
   "metadata": {
    "collapsed": false,
    "ExecuteTime": {
     "end_time": "2024-03-06T00:28:40.602773Z",
     "start_time": "2024-03-06T00:28:40.599392Z"
    }
   },
   "id": "9e04bf499a3a06a3",
   "execution_count": 17
  }
 ],
 "metadata": {
  "kernelspec": {
   "display_name": "Python 3",
   "language": "python",
   "name": "python3"
  },
  "language_info": {
   "codemirror_mode": {
    "name": "ipython",
    "version": 2
   },
   "file_extension": ".py",
   "mimetype": "text/x-python",
   "name": "python",
   "nbconvert_exporter": "python",
   "pygments_lexer": "ipython2",
   "version": "2.7.6"
  }
 },
 "nbformat": 4,
 "nbformat_minor": 5
}
